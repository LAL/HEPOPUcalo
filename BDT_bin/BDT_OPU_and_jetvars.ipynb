{
 "cells": [
  {
   "cell_type": "code",
   "execution_count": 59,
   "metadata": {},
   "outputs": [],
   "source": [
    "import lightgbm as lgb\n",
    "import numpy as np\n",
    "from matplotlib import pyplot\n",
    "from tqdm import tqdm_notebook as tqdm"
   ]
  },
  {
   "cell_type": "code",
   "execution_count": 60,
   "metadata": {},
   "outputs": [],
   "source": [
    "X_train = np.load(\"../Data/train_jet_vars.npy\")\n",
    "X_test = np.load(\"../Data/test_jet_vars.npy\")"
   ]
  },
  {
   "cell_type": "code",
   "execution_count": 61,
   "metadata": {},
   "outputs": [],
   "source": [
    "import h5py\n",
    "f_train_raw = h5py.File('../Data/train.h5','r')\n",
    "f_test_raw = h5py.File('../Data/test.h5','r')"
   ]
  },
  {
   "cell_type": "code",
   "execution_count": 62,
   "metadata": {},
   "outputs": [
    {
     "name": "stdout",
     "output_type": "stream",
     "text": [
      "(412416, 23)\n"
     ]
    }
   ],
   "source": [
    "print(X_train.shape)"
   ]
  },
  {
   "cell_type": "code",
   "execution_count": 63,
   "metadata": {},
   "outputs": [],
   "source": [
    "number_of_training_images = 4096"
   ]
  },
  {
   "cell_type": "code",
   "execution_count": 64,
   "metadata": {},
   "outputs": [],
   "source": [
    "X_train = X_train[:number_of_training_images]\n",
    "X_test = X_test"
   ]
  },
  {
   "cell_type": "code",
   "execution_count": null,
   "metadata": {},
   "outputs": [],
   "source": [
    "weights_train = f_train_raw['all_events']['weight'][:number_of_training_images]\n",
    "weights_test = f_test_raw['all_events']['weight'][:]\n",
    "\n",
    "y_train = f_train_raw['all_events']['y'][:number_of_training_images]\n",
    "y_test = f_test_raw['all_events']['y'][:]\n",
    "\n",
    "passSR_train = f_test_raw['all_events']['passSR'][:number_of_training_images]\n",
    "passSR_test = f_train_raw[\"all_events\"][\"passSR\"][:]"
   ]
  },
  {
   "cell_type": "code",
   "execution_count": null,
   "metadata": {},
   "outputs": [],
   "source": []
  },
  {
   "cell_type": "code",
   "execution_count": 66,
   "metadata": {},
   "outputs": [
    {
     "data": {
      "text/plain": [
       "LGBMClassifier(boosting_type='gbdt', class_weight=None, colsample_bytree=1.0,\n",
       "               importance_type='split', learning_rate=0.1, max_depth=-1,\n",
       "               min_child_samples=20, min_child_weight=0.001, min_split_gain=0.0,\n",
       "               n_estimators=100, n_jobs=-1, num_leaves=31, objective=None,\n",
       "               random_state=None, reg_alpha=0.0, reg_lambda=0.0, silent=True,\n",
       "               subsample=1.0, subsample_for_bin=200000, subsample_freq=0)"
      ]
     },
     "execution_count": 66,
     "metadata": {},
     "output_type": "execute_result"
    }
   ],
   "source": [
    "import lightgbm as lgb\n",
    "bdt = lgb.LGBMClassifier()\n",
    "bdt_algo=\"lgb\"\n",
    "bdt.fit(X_train, y_train)"
   ]
  },
  {
   "cell_type": "code",
   "execution_count": 67,
   "metadata": {},
   "outputs": [],
   "source": [
    "from sklearn.metrics import roc_auc_score\n",
    "#if bdt_algo == \"xgb\":\n",
    "y_pred = bdt.predict_proba(X_test)[:,1]\n",
    "y_pred_train = bdt.predict_proba(X_train)[:,1]"
   ]
  },
  {
   "cell_type": "code",
   "execution_count": 68,
   "metadata": {},
   "outputs": [
    {
     "name": "stdout",
     "output_type": "stream",
     "text": [
      "1.0\n",
      "0.9972217012378571\n"
     ]
    }
   ],
   "source": [
    "print (roc_auc_score(y_true=y_train, y_score=y_pred_train))\n",
    "print (roc_auc_score(y_true=y_test, y_score=y_pred))"
   ]
  },
  {
   "cell_type": "code",
   "execution_count": 69,
   "metadata": {},
   "outputs": [
    {
     "data": {
      "text/plain": [
       "0.9950045617400248"
      ]
     },
     "execution_count": 69,
     "metadata": {},
     "output_type": "execute_result"
    }
   ],
   "source": [
    "from sklearn import metrics\n",
    "fpr_raw_bdt, tpr_raw_bdt, thresholds = metrics.roc_curve(y_test,y_pred,sample_weight=weights_test)\n",
    "metrics.auc(fpr_raw_bdt, tpr_raw_bdt)"
   ]
  },
  {
   "cell_type": "code",
   "execution_count": 70,
   "metadata": {},
   "outputs": [
    {
     "data": {
      "text/plain": [
       "(0, 0.0007, 0, 1)"
      ]
     },
     "execution_count": 70,
     "metadata": {},
     "output_type": "execute_result"
    },
    {
     "data": {
      "image/png": "[encoded data removed]",
      "text/plain": [
       "<Figure size 432x288 with 1 Axes>"
      ]
     },
     "metadata": {
      "needs_background": "light"
     },
     "output_type": "display_data"
    }
   ],
   "source": [
    "#pyplot.scatter(x_dot, y_dot)\n",
    "pyplot.plot(fpr_raw_bdt, tpr_raw_bdt, lw=2,alpha=0.5)\n",
    "pyplot.axis((0,.0007,0,1))\n",
    "#pyplot.savefig(\"bdt result\")"
   ]
  },
  {
   "cell_type": "code",
   "execution_count": 14,
   "metadata": {},
   "outputs": [],
   "source": [
    "#np.save(\"../Results/Final_LGBM_all_trainingdata_testresults\",y_pred)"
   ]
  },
  {
   "cell_type": "markdown",
   "metadata": {},
   "source": [
    "# GET 24th Varible"
   ]
  },
  {
   "cell_type": "code",
   "execution_count": 71,
   "metadata": {},
   "outputs": [],
   "source": [
    "X_24_train = np.load(\"../Results/BDT_24th_feature_train_4096.npy\")\n",
    "X_24_test = np.load(\"../Results/BDT_24th_feature_test_4096.npy\")"
   ]
  },
  {
   "cell_type": "code",
   "execution_count": 72,
   "metadata": {},
   "outputs": [
    {
     "name": "stdout",
     "output_type": "stream",
     "text": [
      "(4096,)\n"
     ]
    }
   ],
   "source": [
    "print(X_24_train.shape)"
   ]
  },
  {
   "cell_type": "code",
   "execution_count": 73,
   "metadata": {},
   "outputs": [],
   "source": [
    "X_train_new = np.hstack((X_train,X_24_train.reshape(-1,1)))\n",
    "X_test_new = np.hstack((X_test,X_24_test.reshape(-1,1)))"
   ]
  },
  {
   "cell_type": "code",
   "execution_count": 74,
   "metadata": {},
   "outputs": [
    {
     "data": {
      "text/plain": [
       "LGBMClassifier(boosting_type='gbdt', class_weight=None, colsample_bytree=1.0,\n",
       "               importance_type='split', learning_rate=0.1, max_depth=-1,\n",
       "               min_child_samples=20, min_child_weight=0.001, min_split_gain=0.0,\n",
       "               n_estimators=100, n_jobs=-1, num_leaves=31, objective=None,\n",
       "               random_state=None, reg_alpha=0.0, reg_lambda=0.0, silent=True,\n",
       "               subsample=1.0, subsample_for_bin=200000, subsample_freq=0)"
      ]
     },
     "execution_count": 74,
     "metadata": {},
     "output_type": "execute_result"
    }
   ],
   "source": [
    "import lightgbm as lgb\n",
    "bdt = lgb.LGBMClassifier()\n",
    "bdt_algo=\"lgb\"\n",
    "bdt.fit(X_train_new, y_train)"
   ]
  },
  {
   "cell_type": "code",
   "execution_count": 75,
   "metadata": {},
   "outputs": [],
   "source": [
    "from sklearn.metrics import roc_auc_score\n",
    "#if bdt_algo == \"xgb\":\n",
    "y_pred_new = bdt.predict_proba(X_test_new)[:,1]\n",
    "y_pred_train_new = bdt.predict_proba(X_train_new)[:,1]"
   ]
  },
  {
   "cell_type": "code",
   "execution_count": 76,
   "metadata": {},
   "outputs": [
    {
     "name": "stdout",
     "output_type": "stream",
     "text": [
      "1.0\n",
      "0.9969941998784686\n"
     ]
    }
   ],
   "source": [
    "print (roc_auc_score(y_true=y_train, y_score=y_pred_train_new))\n",
    "print (roc_auc_score(y_true=y_test, y_score=y_pred_new))"
   ]
  },
  {
   "cell_type": "code",
   "execution_count": 77,
   "metadata": {},
   "outputs": [
    {
     "data": {
      "text/plain": [
       "0.9949212543797575"
      ]
     },
     "execution_count": 77,
     "metadata": {},
     "output_type": "execute_result"
    }
   ],
   "source": [
    "from sklearn import metrics\n",
    "fpr_raw_bdt_new, tpr_raw_bdt_new, thresholds = metrics.roc_curve(y_test,y_pred_new,sample_weight=weights_test)\n",
    "metrics.auc(fpr_raw_bdt_new, tpr_raw_bdt_new)"
   ]
  },
  {
   "cell_type": "code",
   "execution_count": null,
   "metadata": {},
   "outputs": [],
   "source": [
    "x_dot = np.sum(weights_test[(passSR_test == 1) & (y_test == 0)]) / np.sum(weights_test[y_test==0])\n",
    "y_dot = np.sum(weights_test[(passSR_test == 1) & (y_test == 1)]) / np.sum(weights_test[y_test==1])"
   ]
  },
  {
   "cell_type": "code",
   "execution_count": null,
   "metadata": {},
   "outputs": [],
   "source": [
    "pyplot.plot(fpr_raw_bdt_new, tpr_raw_bdt_new, lw=2,alpha=0.5,label=\"opu + lgbm\")\n",
    "pyplot.plot(fpr_raw_bdt,tpr_raw_bdt,lw=2,alpha=0.5,label=\"lgbm\")\n",
    "pyplot.scatter(x_dot, y_dot,label=\"Physics selection\")\n",
    "pyplot.axis((0,.0007,0,1))\n",
    "pyplot.xlabel(\"False Positive Rate\")\n",
    "pyplot.ylabel(\"True Positive Rate\")\n",
    "pyplot.legend(loc = 'lower right')\n",
    "pyplot.title(\"4096 training images\")\n",
    "#pyplot.savefig(\"bdt_result_4096_training_images\")"
   ]
  },
  {
   "cell_type": "code",
   "execution_count": 26,
   "metadata": {},
   "outputs": [],
   "source": [
    "#np.save(\"../Results/Final_LGBM_24v_all_trainingdata_testresults\",y_pred_new)"
   ]
  },
  {
   "cell_type": "code",
   "execution_count": null,
   "metadata": {},
   "outputs": [],
   "source": []
  }
 ],
 "metadata": {
  "kernelspec": {
   "display_name": "Python 3 (LightOn OPU)",
   "language": "python",
   "name": "lighton_python3"
  },
  "language_info": {
   "codemirror_mode": {
    "name": "ipython",
    "version": 3
   },
   "file_extension": ".py",
   "mimetype": "text/x-python",
   "name": "python",
   "nbconvert_exporter": "python",
   "pygments_lexer": "ipython3",
   "version": "3.5.2"
  }
 },
 "nbformat": 4,
 "nbformat_minor": 2
}
