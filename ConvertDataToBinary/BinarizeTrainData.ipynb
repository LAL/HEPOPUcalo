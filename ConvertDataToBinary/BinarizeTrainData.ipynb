{
 "cells": [
  {
   "cell_type": "code",
   "execution_count": 1,
   "metadata": {},
   "outputs": [],
   "source": [
    "import h5py\n",
    "import numpy as np\n",
    "from matplotlib import pyplot\n",
    "from tqdm import tqdm_notebook as tqdm"
   ]
  },
  {
   "cell_type": "code",
   "execution_count": 2,
   "metadata": {},
   "outputs": [],
   "source": [
    "filename_train = '../Data/train_shifted.h5'\n",
    "f = h5py.File(filename_train, 'r')"
   ]
  },
  {
   "cell_type": "code",
   "execution_count": 3,
   "metadata": {},
   "outputs": [],
   "source": [
    "images_train = f['shiftedImg'][:].reshape(-1,4096)\n",
    "#images_train = f['all_events']['hist'][:].reshape(-1,4096)\n",
    "#labels_train = f['all_events']['y'][:]\n",
    "\n",
    "#images_test = f_test['all_events']['hist'][:].reshape(-1,4096)\n",
    "#labels_test = f_test['all_events']['y'][:]"
   ]
  },
  {
   "cell_type": "code",
   "execution_count": 4,
   "metadata": {},
   "outputs": [
    {
     "name": "stdout",
     "output_type": "stream",
     "text": [
      "(412416, 4096)\n"
     ]
    }
   ],
   "source": [
    "print(images_train.shape)"
   ]
  },
  {
   "cell_type": "markdown",
   "metadata": {},
   "source": [
    "# log of values"
   ]
  },
  {
   "cell_type": "code",
   "execution_count": null,
   "metadata": {},
   "outputs": [],
   "source": [
    "#images_train=np.log(images_train)"
   ]
  },
  {
   "cell_type": "markdown",
   "metadata": {},
   "source": [
    "# Distribution plot"
   ]
  },
  {
   "cell_type": "code",
   "execution_count": null,
   "metadata": {},
   "outputs": [],
   "source": [
    "print(np.amax(images_train))"
   ]
  },
  {
   "cell_type": "code",
   "execution_count": null,
   "metadata": {},
   "outputs": [],
   "source": [
    "print(np.amin(images_train))"
   ]
  },
  {
   "cell_type": "code",
   "execution_count": null,
   "metadata": {},
   "outputs": [],
   "source": [
    "bins = np.linspace(0,.01,100)"
   ]
  },
  {
   "cell_type": "code",
   "execution_count": null,
   "metadata": {},
   "outputs": [],
   "source": [
    "%matplotlib inline\n",
    "pyplot.hist(images_train,bins)\n",
    "pyplot.xlabel\n",
    "pyplot.savefig(\"values distribution including 0\")"
   ]
  },
  {
   "cell_type": "markdown",
   "metadata": {},
   "source": [
    "# plot without 0"
   ]
  },
  {
   "cell_type": "code",
   "execution_count": 6,
   "metadata": {},
   "outputs": [],
   "source": [
    "X = []\n",
    "X=images_train[images_train!=0]"
   ]
  },
  {
   "cell_type": "code",
   "execution_count": 7,
   "metadata": {},
   "outputs": [],
   "source": [
    "X =np.asarray(X).reshape(-1,1)"
   ]
  },
  {
   "cell_type": "code",
   "execution_count": null,
   "metadata": {},
   "outputs": [],
   "source": [
    "print(X.shape)\n",
    "#print(Y.shape)"
   ]
  },
  {
   "cell_type": "code",
   "execution_count": null,
   "metadata": {},
   "outputs": [],
   "source": [
    "for i in range(4096):\n",
    "    print(images_train[0][i])"
   ]
  },
  {
   "cell_type": "code",
   "execution_count": null,
   "metadata": {},
   "outputs": [],
   "source": [
    "print(np.amax(X))\n",
    "print(np.amin(X))"
   ]
  },
  {
   "cell_type": "code",
   "execution_count": null,
   "metadata": {},
   "outputs": [],
   "source": [
    "bins = np.linspace(0,.01,100)\n",
    "print(bins.shape)\n",
    "%matplotlib inline\n",
    "pyplot.hist(X,bins)\n",
    "pyplot.xlabel\n",
    "pyplot.savefig(\"values distribution without 0\")"
   ]
  },
  {
   "cell_type": "markdown",
   "metadata": {},
   "source": [
    "# Binning"
   ]
  },
  {
   "cell_type": "markdown",
   "metadata": {},
   "source": [
    "### Find Bin boundary"
   ]
  },
  {
   "cell_type": "code",
   "execution_count": 8,
   "metadata": {},
   "outputs": [],
   "source": [
    "X =np.sort(X,axis=0)"
   ]
  },
  {
   "cell_type": "code",
   "execution_count": 9,
   "metadata": {},
   "outputs": [],
   "source": [
    "X = np.array(X)"
   ]
  },
  {
   "cell_type": "code",
   "execution_count": 11,
   "metadata": {},
   "outputs": [
    {
     "name": "stdout",
     "output_type": "stream",
     "text": [
      "[0.00031528]\n",
      "[0.00091565]\n"
     ]
    }
   ],
   "source": [
    "data_bins = []\n",
    "#bins = bins.reshape(14,1)\n",
    "for i in range(2):\n",
    "    data_bins.append(X[(i+1)*int(X.shape[0]/3)])\n",
    "    print(data_bins[i])"
   ]
  },
  {
   "cell_type": "code",
   "execution_count": null,
   "metadata": {},
   "outputs": [],
   "source": [
    "#save databins to be used for training set"
   ]
  },
  {
   "cell_type": "code",
   "execution_count": 12,
   "metadata": {},
   "outputs": [],
   "source": [
    "np.save('BinningInfo/4bins',data_bins)"
   ]
  },
  {
   "cell_type": "markdown",
   "metadata": {},
   "source": [
    "### plot bins"
   ]
  },
  {
   "cell_type": "code",
   "execution_count": 14,
   "metadata": {},
   "outputs": [
    {
     "name": "stdout",
     "output_type": "stream",
     "text": [
      "(100,)\n"
     ]
    },
    {
     "data": {
      "image/png": "[encoded data removed]",
      "text/plain": [
       "<Figure size 432x288 with 1 Axes>"
      ]
     },
     "metadata": {
      "needs_background": "light"
     },
     "output_type": "display_data"
    }
   ],
   "source": [
    "bins = np.linspace(0,.01,100)\n",
    "print(bins.shape)\n",
    "%matplotlib inline\n",
    "pyplot.hist(X,bins)\n",
    "pyplot.plot((data_bins[0],data_bins[0]),(0,1e7),'k--')\n",
    "pyplot.plot((data_bins[1],data_bins[1]),(0,1e7),'k--')\n",
    "pyplot.ylabel(\"frequency\")\n",
    "pyplot.xlabel(\"energy value\")\n",
    "pyplot.savefig(\"distribution plot\")"
   ]
  },
  {
   "cell_type": "markdown",
   "metadata": {},
   "source": [
    "### Bin data"
   ]
  },
  {
   "cell_type": "code",
   "execution_count": 15,
   "metadata": {},
   "outputs": [],
   "source": [
    "final_op_train = np.zeros((images_train.shape[0],images_train.shape[1],3),dtype=bool)"
   ]
  },
  {
   "cell_type": "code",
   "execution_count": 16,
   "metadata": {},
   "outputs": [
    {
     "data": {
      "text/plain": [
       "(412416, 4096)"
      ]
     },
     "execution_count": 16,
     "metadata": {},
     "output_type": "execute_result"
    }
   ],
   "source": [
    "images_train.shape"
   ]
  },
  {
   "cell_type": "code",
   "execution_count": 17,
   "metadata": {},
   "outputs": [],
   "source": [
    "#final_op_train[images_train>data_bins[5]] = np.array(list('111'), dtype=int).astype(bool)\n",
    "#final_op_train[(images_train>data_bins[4]) & (images_train<=data_bins[5])] = np.array(list('110'), dtype=int).astype(bool)\n",
    "#final_op_train[(images_train>data_bins[3]) & (images_train<=data_bins[4])] = np.array(list('101'), dtype=int).astype(bool)\n",
    "#final_op_train[(images_train>data_bins[2]) & (images_train<=data_bins[3])] = np.array(list('100'), dtype=int).astype(bool)\n",
    "#final_op_train[(images_train>data_bins[1]) & (images_train<=data_bins[2])] = np.array(list('011'), dtype=int).astype(bool)\n",
    "final_op_train[(images_train>data_bins[1])] = np.array(list('111'), dtype=int).astype(bool)\n",
    "final_op_train[(images_train>data_bins[0]) & (images_train<=data_bins[1])] = np.array(list('011'), dtype=int).astype(bool)\n",
    "final_op_train[(images_train>0) & (images_train<=data_bins[0])] = np.array(list('001'), dtype=int).astype(bool)\n",
    "final_op_train[images_train==0] = np.array(list('000'), dtype=int).astype(bool)"
   ]
  },
  {
   "cell_type": "code",
   "execution_count": null,
   "metadata": {},
   "outputs": [],
   "source": [
    "#print(images[images>data_bins[5]])"
   ]
  },
  {
   "cell_type": "code",
   "execution_count": 19,
   "metadata": {},
   "outputs": [],
   "source": [
    "final_op_train = final_op_train.reshape(final_op_train.shape[0],-1)"
   ]
  },
  {
   "cell_type": "code",
   "execution_count": null,
   "metadata": {},
   "outputs": [],
   "source": [
    "hf_train = h5py.File(\"../BinaryData/3bits4binstrain_shifted.h5\",\"w\")\n",
    "hf_train.create_dataset(\"inputs\",data=final_op_train)\n",
    "hf_train.close()"
   ]
  },
  {
   "cell_type": "code",
   "execution_count": null,
   "metadata": {},
   "outputs": [],
   "source": []
  }
 ],
 "metadata": {
  "kernelspec": {
   "display_name": "Python 3 (LightOn OPU)",
   "language": "python",
   "name": "lighton_python3"
  },
  "language_info": {
   "codemirror_mode": {
    "name": "ipython",
    "version": 3
   },
   "file_extension": ".py",
   "mimetype": "text/x-python",
   "name": "python",
   "nbconvert_exporter": "python",
   "pygments_lexer": "ipython3",
   "version": "3.5.2"
  }
 },
 "nbformat": 4,
 "nbformat_minor": 2
}
