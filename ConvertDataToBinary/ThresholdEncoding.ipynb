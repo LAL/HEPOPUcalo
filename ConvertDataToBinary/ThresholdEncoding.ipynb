{
 "cells": [
  {
   "cell_type": "code",
   "execution_count": 4,
   "metadata": {},
   "outputs": [],
   "source": [
    "import h5py\n",
    "import numpy as np\n",
    "from matplotlib import pyplot\n",
    "from tqdm import tqdm_notebook as tqdm"
   ]
  },
  {
   "cell_type": "code",
   "execution_count": 2,
   "metadata": {},
   "outputs": [],
   "source": [
    "filename_train = 'Data/train.h5'\n",
    "f = h5py.File(filename_train, 'r')\n",
    "\n",
    "filename_test = 'Data/test.h5'\n",
    "f_test = h5py.File(filename_test, 'r')"
   ]
  },
  {
   "cell_type": "code",
   "execution_count": 3,
   "metadata": {},
   "outputs": [],
   "source": [
    "images_train = f['all_events']['hist'][:].reshape(-1,4096)\n",
    "labels_train = f['all_events']['y'][:]\n",
    "\n",
    "#images_test = f_test['all_events']['hist'][:].reshape(-1,4096)\n",
    "#labels_test = f_test['all_events']['y'][:]"
   ]
  },
  {
   "cell_type": "code",
   "execution_count": null,
   "metadata": {},
   "outputs": [],
   "source": [
    "print(images_train.shape)"
   ]
  },
  {
   "cell_type": "markdown",
   "metadata": {},
   "source": [
    "# log of values"
   ]
  },
  {
   "cell_type": "code",
   "execution_count": null,
   "metadata": {},
   "outputs": [],
   "source": [
    "#images_train=np.log(images_train)"
   ]
  },
  {
   "cell_type": "markdown",
   "metadata": {},
   "source": [
    "# Threshold encoding"
   ]
  },
  {
   "cell_type": "code",
   "execution_count": null,
   "metadata": {},
   "outputs": [],
   "source": [
    "X_train = np.zeros(images_train.shape, dtype=np.bool_)\n",
    "X_test = np.zeros(images_test.shape, dtype=np.bool_)"
   ]
  },
  {
   "cell_type": "code",
   "execution_count": null,
   "metadata": {},
   "outputs": [],
   "source": [
    "X_train[images_train!=0]=1\n",
    "X_test[images_test!=0]=1"
   ]
  },
  {
   "cell_type": "code",
   "execution_count": null,
   "metadata": {},
   "outputs": [],
   "source": [
    "\n",
    "\n",
    "hf_test = h5py.File(\"BinaryData/threshold_test.h5\",\"w\")\n",
    "hf_test.create_dataset(\"inputs\",data=X_test)\n",
    "hf_test.close()"
   ]
  },
  {
   "cell_type": "markdown",
   "metadata": {},
   "source": [
    "# Log of input image"
   ]
  },
  {
   "cell_type": "code",
   "execution_count": null,
   "metadata": {},
   "outputs": [],
   "source": [
    "X_train[images_train!=0]=1\n",
    "X_test[images_test!=0]=1"
   ]
  },
  {
   "cell_type": "markdown",
   "metadata": {},
   "source": [
    "# Distribution plot"
   ]
  },
  {
   "cell_type": "code",
   "execution_count": null,
   "metadata": {},
   "outputs": [],
   "source": [
    "print(np.amax(images_train))"
   ]
  },
  {
   "cell_type": "code",
   "execution_count": null,
   "metadata": {},
   "outputs": [],
   "source": [
    "print(np.amin(images_train))"
   ]
  },
  {
   "cell_type": "code",
   "execution_count": null,
   "metadata": {},
   "outputs": [],
   "source": [
    "bins = np.linspace(0,.01,100)"
   ]
  },
  {
   "cell_type": "code",
   "execution_count": null,
   "metadata": {},
   "outputs": [],
   "source": []
  },
  {
   "cell_type": "code",
   "execution_count": null,
   "metadata": {},
   "outputs": [],
   "source": [
    "%matplotlib inline\n",
    "pyplot.hist(images_train,bins)\n",
    "pyplot.xlabel\n",
    "pyplot.savefig(\"values distribution\")"
   ]
  },
  {
   "cell_type": "markdown",
   "metadata": {},
   "source": [
    "# Binning"
   ]
  },
  {
   "cell_type": "markdown",
   "metadata": {},
   "source": [
    "### Find Bins "
   ]
  },
  {
   "cell_type": "code",
   "execution_count": null,
   "metadata": {},
   "outputs": [],
   "source": [
    "X = []\n",
    "X=images_train[images_train!=0]"
   ]
  },
  {
   "cell_type": "code",
   "execution_count": null,
   "metadata": {},
   "outputs": [],
   "source": [
    "X =np.asarray(X).reshape(-1,1)"
   ]
  },
  {
   "cell_type": "code",
   "execution_count": null,
   "metadata": {},
   "outputs": [],
   "source": [
    "print(X.shape)\n",
    "#print(Y.shape)"
   ]
  },
  {
   "cell_type": "code",
   "execution_count": null,
   "metadata": {},
   "outputs": [],
   "source": [
    "for i in range(4096):\n",
    "    print(images_train[0][i])"
   ]
  },
  {
   "cell_type": "code",
   "execution_count": null,
   "metadata": {},
   "outputs": [],
   "source": [
    "print(np.amax(X))\n",
    "print(np.amin(X))"
   ]
  },
  {
   "cell_type": "code",
   "execution_count": null,
   "metadata": {},
   "outputs": [],
   "source": [
    "bins = np.linspace(0,.01,100)\n",
    "print(bins.shape)\n",
    "%matplotlib inline\n",
    "pyplot.hist(X,bins)\n",
    "pyplot.xlabel\n",
    "pyplot.savefig(\"values distribution\")"
   ]
  },
  {
   "cell_type": "markdown",
   "metadata": {},
   "source": [
    "### Bin data"
   ]
  },
  {
   "cell_type": "code",
   "execution_count": null,
   "metadata": {},
   "outputs": [],
   "source": [
    "X =np.sort(X,axis=0)"
   ]
  },
  {
   "cell_type": "code",
   "execution_count": null,
   "metadata": {},
   "outputs": [],
   "source": [
    "X = np.array(X)"
   ]
  },
  {
   "cell_type": "code",
   "execution_count": null,
   "metadata": {},
   "outputs": [],
   "source": [
    "for i in range(1000):\n",
    "    print(X[i])"
   ]
  },
  {
   "cell_type": "code",
   "execution_count": null,
   "metadata": {},
   "outputs": [],
   "source": [
    "data_bins = []\n",
    "#bins = bins.reshape(14,1)\n",
    "for i in range(2):\n",
    "    data_bins.append(X[(i+1)*int(X.shape[0]/3)])\n",
    "    print(data_bins[i])"
   ]
  },
  {
   "cell_type": "code",
   "execution_count": null,
   "metadata": {},
   "outputs": [],
   "source": [
    "final_op_train = np.zeros((images_train.shape[0],images_train.shape[1],3),dtype=bool)"
   ]
  },
  {
   "cell_type": "code",
   "execution_count": null,
   "metadata": {},
   "outputs": [],
   "source": [
    "images_train.shape"
   ]
  },
  {
   "cell_type": "code",
   "execution_count": null,
   "metadata": {},
   "outputs": [],
   "source": [
    "#for i in range(images.shape[0]):\n",
    "    #for j in range(images.shape[1]):\n",
    "    #    if(images[i][j]==0):\n",
    "    #        final_op = 1000\n",
    "    #    elif(images[i][j]<data_bins[0]):\n",
    "    #        final_op = 1001\n",
    "    #    elif(images[images[i][j]<data_bins[1]]):\n",
    "    #        final_op = 1010\n",
    "    #    elif(images[images[i][j]<data_bins[2]]):\n",
    "    #        final_op = 1011\n",
    "    #    elif(images[images[i][j]<data_bins[3]]):\n",
    "    #        final_op = 1100\n",
    "    #    elif(images[images[i][j]<data_bins[4]]):\n",
    "    #        final_op = 1101\n",
    "    #    elif(images[images[i][j]<data_bins[5]]):\n",
    "    #        final_op = 1110\n",
    "    #    else: \n",
    "    #        final_op = 1111\n",
    "#final_op_train[images_train>data_bins[5]] = np.array(list('111'), dtype=int).astype(bool)\n",
    "#final_op_train[(images_train>data_bins[4]) & (images_train<=data_bins[5])] = np.array(list('110'), dtype=int).astype(bool)\n",
    "#final_op_train[(images_train>data_bins[3]) & (images_train<=data_bins[4])] = np.array(list('101'), dtype=int).astype(bool)\n",
    "#final_op_train[(images_train>data_bins[2]) & (images_train<=data_bins[3])] = np.array(list('100'), dtype=int).astype(bool)\n",
    "#final_op_train[(images_train>data_bins[1]) & (images_train<=data_bins[2])] = np.array(list('011'), dtype=int).astype(bool)\n",
    "final_op_train[(images_train>data_bins[1])] = np.array(list('111'), dtype=int).astype(bool)\n",
    "final_op_train[(images_train>data_bins[0]) & (images_train<=data_bins[1])] = np.array(list('011'), dtype=int).astype(bool)\n",
    "final_op_train[(images_train>0) & (images_train<=data_bins[0])] = np.array(list('001'), dtype=int).astype(bool)\n",
    "final_op_train[images_train==0] = np.array(list('000'), dtype=int).astype(bool)"
   ]
  },
  {
   "cell_type": "code",
   "execution_count": null,
   "metadata": {},
   "outputs": [],
   "source": [
    "final_op_train[(images_train>data_bins[1])] = np.array(list('111'), dtype=int).astype(bool)"
   ]
  },
  {
   "cell_type": "code",
   "execution_count": null,
   "metadata": {},
   "outputs": [],
   "source": [
    "final_op_train[(images_train>data_bins[0]) & (images_train<=data_bins[1])] = np.array(list('011'), dtype=int).astype(bool)"
   ]
  },
  {
   "cell_type": "code",
   "execution_count": null,
   "metadata": {},
   "outputs": [],
   "source": [
    "final_op_train[(images_train>0) & (images_train<=data_bins[0])] = np.array(list('001'), dtype=int).astype(bool)"
   ]
  },
  {
   "cell_type": "code",
   "execution_count": null,
   "metadata": {},
   "outputs": [],
   "source": [
    "final_op_train[images_train==0] = np.array(list('000'), dtype=int).astype(bool)"
   ]
  },
  {
   "cell_type": "code",
   "execution_count": null,
   "metadata": {},
   "outputs": [],
   "source": [
    "#print(images[images>data_bins[5]])"
   ]
  },
  {
   "cell_type": "code",
   "execution_count": null,
   "metadata": {},
   "outputs": [],
   "source": [
    "for i in range(4096):\n",
    "    print(images_train[10][i])\n",
    "    print(final_op_train[10][i])"
   ]
  },
  {
   "cell_type": "code",
   "execution_count": null,
   "metadata": {},
   "outputs": [],
   "source": [
    "final_op_train = final_op_train.reshape(final_op_train.shape[0],-1)"
   ]
  },
  {
   "cell_type": "code",
   "execution_count": null,
   "metadata": {},
   "outputs": [],
   "source": [
    "hf_train = h5py.File(\"BinaryData/3bits4binstrain.h5\",\"w\")\n",
    "hf_train.create_dataset(\"inputs\",data=X_train)\n",
    "hf_train.close()"
   ]
  },
  {
   "cell_type": "code",
   "execution_count": null,
   "metadata": {},
   "outputs": [],
   "source": [
    "images_train[0][10]"
   ]
  },
  {
   "cell_type": "code",
   "execution_count": null,
   "metadata": {},
   "outputs": [],
   "source": [
    "final_op_train.shape"
   ]
  },
  {
   "cell_type": "code",
   "execution_count": null,
   "metadata": {},
   "outputs": [],
   "source": []
  },
  {
   "cell_type": "code",
   "execution_count": null,
   "metadata": {},
   "outputs": [],
   "source": []
  },
  {
   "cell_type": "code",
   "execution_count": null,
   "metadata": {},
   "outputs": [],
   "source": []
  },
  {
   "cell_type": "code",
   "execution_count": null,
   "metadata": {},
   "outputs": [],
   "source": []
  },
  {
   "cell_type": "code",
   "execution_count": null,
   "metadata": {},
   "outputs": [],
   "source": [
    "final_op_test = np.zeros((images_test.shape[0],images_test.shape[1],3),dtype=bool)"
   ]
  },
  {
   "cell_type": "code",
   "execution_count": null,
   "metadata": {},
   "outputs": [],
   "source": [
    "final_op_test[(images_test>data_bins[1])] = np.array(list('111'), dtype=int).astype(bool)\n",
    "final_op_test[(images_test>data_bins[0]) & (images_test<=data_bins[1])] = np.array(list('011'), dtype=int).astype(bool)\n",
    "final_op_test[(images_test>0) & (images_test<data_bins[0])] = np.array(list('001'), dtype=int).astype(bool)\n",
    "final_op_test[images_test==0] = np.array(list('000'), dtype=int).astype(bool)"
   ]
  },
  {
   "cell_type": "code",
   "execution_count": null,
   "metadata": {},
   "outputs": [],
   "source": [
    "final_op_test[images_test>data_bins[5]] = np.array(list('111'), dtype=int).astype(bool)\n",
    "final_op_test[(images_test>data_bins[4]) & (images_test<=data_bins[5])] = np.array(list('110'), dtype=int).astype(bool)\n",
    "final_op_test[(images_test>data_bins[3]) & (images_test<=data_bins[4])] = np.array(list('101'), dtype=int).astype(bool)\n",
    "final_op_test[(images_test>data_bins[2]) & (images_test<=data_bins[3])] = np.array(list('100'), dtype=int).astype(bool)\n",
    "final_op_test[(images_test>data_bins[1]) & (images_test<=data_bins[2])] = np.array(list('011'), dtype=int).astype(bool)\n",
    "#final_op_test[(images_test>data_bins[1])] = np.array(list('111'), dtype=int).astype(bool)\n",
    "final_op_test[(images_test>data_bins[0]) & (images_test<=data_bins[1])] = np.array(list('010'), dtype=int).astype(bool)\n",
    "final_op_test[(images_test>0) & (images_test<=data_bins[0])] = np.array(list('001'), dtype=int).astype(bool)\n",
    "final_op_test[images_test==0] = np.array(list('000'), dtype=int).astype(bool)"
   ]
  },
  {
   "cell_type": "code",
   "execution_count": null,
   "metadata": {},
   "outputs": [],
   "source": [
    "final_op_test = final_op_test.reshape(final_op_test.shape[0],-1)"
   ]
  },
  {
   "cell_type": "code",
   "execution_count": null,
   "metadata": {},
   "outputs": [],
   "source": [
    "final_op_test.shape"
   ]
  },
  {
   "cell_type": "code",
   "execution_count": null,
   "metadata": {},
   "outputs": [],
   "source": [
    "np.save(\"BinaryData/3bits8binstest.h5\", final_op_test)"
   ]
  },
  {
   "cell_type": "code",
   "execution_count": null,
   "metadata": {},
   "outputs": [],
   "source": []
  }
 ],
 "metadata": {
  "kernelspec": {
   "display_name": "Python 3 (LightOn OPU)",
   "language": "python",
   "name": "lighton_python3"
  },
  "language_info": {
   "codemirror_mode": {
    "name": "ipython",
    "version": 3
   },
   "file_extension": ".py",
   "mimetype": "text/x-python",
   "name": "python",
   "nbconvert_exporter": "python",
   "pygments_lexer": "ipython3",
   "version": "3.5.2"
  }
 },
 "nbformat": 4,
 "nbformat_minor": 2
}
