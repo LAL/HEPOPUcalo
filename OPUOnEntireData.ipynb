{
 "cells": [
  {
   "cell_type": "code",
   "execution_count": 1,
   "metadata": {},
   "outputs": [],
   "source": [
    "import numpy as np\n",
    "\n",
    "from lightonml.projections.sklearn import OPUMap\n",
    "from lightonopu.opu import OPU\n",
    "import time \n",
    "import os\n",
    "from sklearn.linear_model import RidgeClassifier\n",
    "from sklearn import metrics\n",
    "from sklearn import preprocessing\n",
    "from sklearn.model_selection import train_test_split\n",
    "from matplotlib import pyplot\n",
    "import math\n",
    "\n",
    "import h5py\n",
    "\n",
    "from tqdm import tqdm\n",
    "\n",
    "import torch\n",
    "import torch.nn as nn\n",
    "import torch.optim as optim\n",
    "from torch.utils.data import Dataset, DataLoader, TensorDataset"
   ]
  },
  {
   "cell_type": "markdown",
   "metadata": {},
   "source": [
    "### load data"
   ]
  },
  {
   "cell_type": "code",
   "execution_count": null,
   "metadata": {},
   "outputs": [],
   "source": [
    "#train_random_features = np.load(\"train_random_features.npy\")\n",
    "#test_random_features = np.load(\"test_random_features.npy\")\n",
    "\n",
    "#y_train_bin = np.load(\"labels_train.npy\")\n",
    "#y_test_bin = np.load(\"labels_test.npy\")"
   ]
  },
  {
   "cell_type": "code",
   "execution_count": null,
   "metadata": {},
   "outputs": [],
   "source": [
    "#train_features_tofloat = torch.from_numpy(train_random_features).float()\n",
    "#train_label_tofloat = torch.from_numpy(y_train_bin).float()\n",
    "\n",
    "#test_features_tofloat = torch.from_numpy(test_random_features).float()\n",
    "#test_label_tofloat = torch.from_numpy(y_test_bin).float()"
   ]
  },
  {
   "cell_type": "code",
   "execution_count": 2,
   "metadata": {},
   "outputs": [],
   "source": [
    "f_train = h5py.File(\"train_random_features.h5\", 'r')\n",
    "f_test = h5py.File(\"test_random_features.h5\",'r')"
   ]
  },
  {
   "cell_type": "code",
   "execution_count": 3,
   "metadata": {},
   "outputs": [],
   "source": [
    "train_random_features = f_train['inputs'][:200000,:40000]\n",
    "y_train_bin = f_train['labels'][:200000]\n",
    "\n",
    "test_random_features = f_test['inputs'][:,:40000]\n",
    "y_test_bin = f_test['labels'][:]"
   ]
  },
  {
   "cell_type": "code",
   "execution_count": 4,
   "metadata": {},
   "outputs": [
    {
     "data": {
      "text/plain": [
       "(200000, 40000)"
      ]
     },
     "execution_count": 4,
     "metadata": {},
     "output_type": "execute_result"
    }
   ],
   "source": [
    "train_random_features.shape"
   ]
  },
  {
   "cell_type": "code",
   "execution_count": 5,
   "metadata": {},
   "outputs": [
    {
     "data": {
      "text/plain": [
       "(200000, 1)"
      ]
     },
     "execution_count": 5,
     "metadata": {},
     "output_type": "execute_result"
    }
   ],
   "source": [
    "y_train_bin.shape"
   ]
  },
  {
   "cell_type": "markdown",
   "metadata": {},
   "source": [
    "### Scale random features"
   ]
  },
  {
   "cell_type": "code",
   "execution_count": 6,
   "metadata": {},
   "outputs": [
    {
     "data": {
      "text/plain": [
       "MinMaxScaler(copy=True, feature_range=(0, 1))"
      ]
     },
     "execution_count": 6,
     "metadata": {},
     "output_type": "execute_result"
    }
   ],
   "source": [
    "min_max = preprocessing.MinMaxScaler()\n",
    "min_max.fit(train_random_features[:10000])"
   ]
  },
  {
   "cell_type": "code",
   "execution_count": 7,
   "metadata": {},
   "outputs": [],
   "source": [
    "for i in range(train_random_features.shape[0]):\n",
    "    train_random_features[i] = min_max.transform(train_random_features[i:i+1])"
   ]
  },
  {
   "cell_type": "code",
   "execution_count": 8,
   "metadata": {},
   "outputs": [],
   "source": [
    "for i in range (test_random_features.shape[0]):\n",
    "    test_random_features[i] = min_max.transform(test_random_features[i:i+1])"
   ]
  },
  {
   "cell_type": "code",
   "execution_count": null,
   "metadata": {},
   "outputs": [],
   "source": [
    "#train_random_features = np.sqrt(train_random_features)\n",
    "#test_random_features = np.sqrt(test_random_features)"
   ]
  },
  {
   "cell_type": "markdown",
   "metadata": {},
   "source": [
    "## Train model"
   ]
  },
  {
   "cell_type": "code",
   "execution_count": 9,
   "metadata": {},
   "outputs": [],
   "source": [
    "batch_size = 1024\n",
    "dataset_train = TensorDataset( torch.Tensor(train_random_features), torch.Tensor(y_train_bin) )\n",
    "data_loader_train = DataLoader(dataset_train,batch_size=batch_size,shuffle=True)\n",
    "#data_loader_test = DataLoader((test_random_features,test_label_tofloat),batch_size=batch_size,shuffle=False)"
   ]
  },
  {
   "cell_type": "code",
   "execution_count": 10,
   "metadata": {
    "scrolled": true
   },
   "outputs": [
    {
     "name": "stdout",
     "output_type": "stream",
     "text": [
      "epoch 1, loss 0.42145833373069763\n",
      "epoch 1, loss 0.4106537401676178\n",
      "epoch 1, loss 0.3719385266304016\n",
      "epoch 1, loss 0.3627423048019409\n",
      "epoch 1, loss 0.34111374616622925\n",
      "epoch 1, loss 0.339495450258255\n",
      "epoch 1, loss 0.3292670249938965\n",
      "epoch 1, loss 0.3070109188556671\n",
      "epoch 1, loss 0.32036271691322327\n",
      "epoch 1, loss 0.28640493750572205\n",
      "epoch 1, loss 0.2887895107269287\n",
      "epoch 1, loss 0.3044669032096863\n",
      "epoch 1, loss 0.2784475088119507\n",
      "epoch 1, loss 0.2856264114379883\n",
      "epoch 1, loss 0.27382469177246094\n",
      "epoch 1, loss 0.27393656969070435\n",
      "epoch 1, loss 0.2668074369430542\n",
      "epoch 1, loss 0.271474152803421\n",
      "epoch 1, loss 0.2615140676498413\n",
      "epoch 1, loss 0.26784810423851013\n",
      "epoch 2, loss 0.25422757863998413\n",
      "epoch 2, loss 0.2523675262928009\n",
      "epoch 2, loss 0.2594686448574066\n",
      "epoch 2, loss 0.25744086503982544\n",
      "epoch 2, loss 0.25553449988365173\n",
      "epoch 2, loss 0.25258874893188477\n",
      "epoch 2, loss 0.2599264681339264\n",
      "epoch 2, loss 0.2577853798866272\n",
      "epoch 2, loss 0.2576011121273041\n",
      "epoch 2, loss 0.24888379871845245\n",
      "epoch 2, loss 0.2510889172554016\n",
      "epoch 2, loss 0.25059184432029724\n",
      "epoch 2, loss 0.256587415933609\n",
      "epoch 2, loss 0.25864532589912415\n",
      "epoch 2, loss 0.24848999083042145\n",
      "epoch 2, loss 0.25137096643447876\n",
      "epoch 2, loss 0.24727152287960052\n",
      "epoch 2, loss 0.2509613335132599\n",
      "epoch 2, loss 0.24406343698501587\n",
      "epoch 2, loss 0.2521875202655792\n",
      "epoch 3, loss 0.2602999806404114\n",
      "epoch 3, loss 0.24979320168495178\n",
      "epoch 3, loss 0.24481995403766632\n",
      "epoch 3, loss 0.2539786398410797\n",
      "epoch 3, loss 0.2563747763633728\n",
      "epoch 3, loss 0.2451397329568863\n",
      "epoch 3, loss 0.24852997064590454\n",
      "epoch 3, loss 0.24158483743667603\n",
      "epoch 3, loss 0.25111818313598633\n",
      "epoch 3, loss 0.25222015380859375\n",
      "epoch 3, loss 0.253859281539917\n",
      "epoch 3, loss 0.24973073601722717\n",
      "epoch 3, loss 0.25269317626953125\n",
      "epoch 3, loss 0.25044068694114685\n",
      "epoch 3, loss 0.2556135356426239\n",
      "epoch 3, loss 0.24819022417068481\n",
      "epoch 3, loss 0.24878689646720886\n",
      "epoch 3, loss 0.24979518353939056\n",
      "epoch 3, loss 0.24939560890197754\n",
      "epoch 3, loss 0.24931427836418152\n",
      "epoch 4, loss 0.24927379190921783\n",
      "epoch 4, loss 0.25125157833099365\n",
      "epoch 4, loss 0.24631161987781525\n",
      "epoch 4, loss 0.24047362804412842\n",
      "epoch 4, loss 0.2445753961801529\n",
      "epoch 4, loss 0.2480037361383438\n",
      "epoch 4, loss 0.24279160797595978\n",
      "epoch 4, loss 0.24933220446109772\n",
      "epoch 4, loss 0.2488042116165161\n",
      "epoch 4, loss 0.25416451692581177\n",
      "epoch 4, loss 0.25268223881721497\n",
      "epoch 4, loss 0.2629726827144623\n",
      "epoch 4, loss 0.24623262882232666\n",
      "epoch 4, loss 0.24779008328914642\n",
      "epoch 4, loss 0.24737292528152466\n",
      "epoch 4, loss 0.2422259896993637\n",
      "epoch 4, loss 0.2448435127735138\n",
      "epoch 4, loss 0.24731238186359406\n",
      "epoch 4, loss 0.24877354502677917\n",
      "epoch 4, loss 0.2542087733745575\n",
      "epoch 5, loss 0.24720843136310577\n",
      "epoch 5, loss 0.25883904099464417\n",
      "epoch 5, loss 0.25094547867774963\n",
      "epoch 5, loss 0.2524729073047638\n",
      "epoch 5, loss 0.24329188466072083\n",
      "epoch 5, loss 0.24444852769374847\n",
      "epoch 5, loss 0.2544313967227936\n",
      "epoch 5, loss 0.24479390680789948\n",
      "epoch 5, loss 0.25278928875923157\n",
      "epoch 5, loss 0.25398021936416626\n",
      "epoch 5, loss 0.24259670078754425\n",
      "epoch 5, loss 0.24717016518115997\n",
      "epoch 5, loss 0.251212477684021\n",
      "epoch 5, loss 0.24888262152671814\n",
      "epoch 5, loss 0.24784351885318756\n",
      "epoch 5, loss 0.25137925148010254\n",
      "epoch 5, loss 0.24978956580162048\n",
      "epoch 5, loss 0.24375589191913605\n",
      "epoch 5, loss 0.24903877079486847\n",
      "epoch 5, loss 0.2448604255914688\n",
      "epoch 6, loss 0.24620282649993896\n",
      "epoch 6, loss 0.2513285279273987\n",
      "epoch 6, loss 0.2420465648174286\n",
      "epoch 6, loss 0.24955782294273376\n",
      "epoch 6, loss 0.24696269631385803\n",
      "epoch 6, loss 0.25107187032699585\n",
      "epoch 6, loss 0.2517394721508026\n",
      "epoch 6, loss 0.25329360365867615\n",
      "epoch 6, loss 0.2510635256767273\n",
      "epoch 6, loss 0.2570551335811615\n",
      "epoch 6, loss 0.2503732442855835\n",
      "epoch 6, loss 0.25136810541152954\n",
      "epoch 6, loss 0.2532849907875061\n",
      "epoch 6, loss 0.2531343102455139\n",
      "epoch 6, loss 0.25131428241729736\n",
      "epoch 6, loss 0.2518283426761627\n",
      "epoch 6, loss 0.24903766810894012\n",
      "epoch 6, loss 0.251057505607605\n",
      "epoch 6, loss 0.2477165162563324\n",
      "epoch 6, loss 0.24792850017547607\n",
      "epoch 7, loss 0.2490779161453247\n",
      "epoch 7, loss 0.24853414297103882\n",
      "epoch 7, loss 0.24488268792629242\n",
      "epoch 7, loss 0.2490789145231247\n",
      "epoch 7, loss 0.24814948439598083\n",
      "epoch 7, loss 0.2533097267150879\n",
      "epoch 7, loss 0.25251999497413635\n",
      "epoch 7, loss 0.25073760747909546\n",
      "epoch 7, loss 0.24653542041778564\n",
      "epoch 7, loss 0.2523142695426941\n",
      "epoch 7, loss 0.24524854123592377\n",
      "epoch 7, loss 0.24949413537979126\n",
      "epoch 7, loss 0.2508009076118469\n",
      "epoch 7, loss 0.2503277063369751\n",
      "epoch 7, loss 0.2442573457956314\n",
      "epoch 7, loss 0.24538573622703552\n",
      "epoch 7, loss 0.24412208795547485\n",
      "epoch 7, loss 0.24566292762756348\n",
      "epoch 7, loss 0.2479153871536255\n",
      "epoch 7, loss 0.2482212781906128\n",
      "epoch 8, loss 0.2494812309741974\n",
      "epoch 8, loss 0.25127482414245605\n",
      "epoch 8, loss 0.24304668605327606\n",
      "epoch 8, loss 0.2508121728897095\n",
      "epoch 8, loss 0.24300983548164368\n",
      "epoch 8, loss 0.24507148563861847\n",
      "epoch 8, loss 0.24857130646705627\n",
      "epoch 8, loss 0.24871203303337097\n",
      "epoch 8, loss 0.2514142692089081\n",
      "epoch 8, loss 0.2429446280002594\n",
      "epoch 8, loss 0.2441251277923584\n",
      "epoch 8, loss 0.24847884476184845\n",
      "epoch 8, loss 0.2472454011440277\n",
      "epoch 8, loss 0.24729125201702118\n",
      "epoch 8, loss 0.24581679701805115\n",
      "epoch 8, loss 0.24259884655475616\n",
      "epoch 8, loss 0.2471761405467987\n",
      "epoch 8, loss 0.2442176789045334\n",
      "epoch 8, loss 0.24741683900356293\n",
      "epoch 8, loss 0.25069090723991394\n",
      "epoch 9, loss 0.24580217897891998\n",
      "epoch 9, loss 0.246320903301239\n",
      "epoch 9, loss 0.2422289252281189\n",
      "epoch 9, loss 0.24834303557872772\n",
      "epoch 9, loss 0.24288319051265717\n",
      "epoch 9, loss 0.24202831089496613\n",
      "epoch 9, loss 0.25414666533470154\n",
      "epoch 9, loss 0.24676726758480072\n",
      "epoch 9, loss 0.2497081458568573\n",
      "epoch 9, loss 0.24313899874687195\n",
      "epoch 9, loss 0.2522038519382477\n",
      "epoch 9, loss 0.24417857825756073\n",
      "epoch 9, loss 0.2418559491634369\n",
      "epoch 9, loss 0.24527820944786072\n",
      "epoch 9, loss 0.2435149848461151\n",
      "epoch 9, loss 0.24810829758644104\n",
      "epoch 9, loss 0.248284712433815\n",
      "epoch 9, loss 0.2470180243253708\n",
      "epoch 9, loss 0.24475811421871185\n",
      "epoch 9, loss 0.24785946309566498\n",
      "epoch 10, loss 0.24521270394325256\n",
      "epoch 10, loss 0.24694818258285522\n",
      "epoch 10, loss 0.24788938462734222\n",
      "epoch 10, loss 0.24650627374649048\n",
      "epoch 10, loss 0.2448054701089859\n",
      "epoch 10, loss 0.24331797659397125\n",
      "epoch 10, loss 0.25234660506248474\n",
      "epoch 10, loss 0.25202828645706177\n",
      "epoch 10, loss 0.24004311859607697\n",
      "epoch 10, loss 0.2508239150047302\n",
      "epoch 10, loss 0.24632258713245392\n",
      "epoch 10, loss 0.24652767181396484\n",
      "epoch 10, loss 0.24939003586769104\n",
      "epoch 10, loss 0.2511933743953705\n",
      "epoch 10, loss 0.2469298541545868\n",
      "epoch 10, loss 0.24629095196723938\n",
      "epoch 10, loss 0.24404501914978027\n",
      "epoch 10, loss 0.24981234967708588\n",
      "epoch 10, loss 0.24633611738681793\n",
      "epoch 10, loss 0.24621757864952087\n",
      "epoch 11, loss 0.25238776206970215\n",
      "epoch 11, loss 0.244040846824646\n",
      "epoch 11, loss 0.24873359501361847\n",
      "epoch 11, loss 0.24535603821277618\n",
      "epoch 11, loss 0.2467866837978363\n",
      "epoch 11, loss 0.2474907785654068\n",
      "epoch 11, loss 0.2487424910068512\n",
      "epoch 11, loss 0.2484896183013916\n",
      "epoch 11, loss 0.24503423273563385\n",
      "epoch 11, loss 0.24442684650421143\n",
      "epoch 11, loss 0.2481677234172821\n",
      "epoch 11, loss 0.24671944975852966\n",
      "epoch 11, loss 0.24512764811515808\n",
      "epoch 11, loss 0.2502001225948334\n",
      "epoch 11, loss 0.244524747133255\n",
      "epoch 11, loss 0.24932314455509186\n",
      "epoch 11, loss 0.2516538202762604\n",
      "epoch 11, loss 0.25135067105293274\n",
      "epoch 11, loss 0.24150121212005615\n",
      "epoch 11, loss 0.24495749175548553\n",
      "epoch 12, loss 0.24390332400798798\n",
      "epoch 12, loss 0.24696917831897736\n",
      "epoch 12, loss 0.24826425313949585\n",
      "epoch 12, loss 0.2475619614124298\n",
      "epoch 12, loss 0.25470033288002014\n",
      "epoch 12, loss 0.24488648772239685\n",
      "epoch 12, loss 0.24747872352600098\n",
      "epoch 12, loss 0.24903690814971924\n",
      "epoch 12, loss 0.2500340938568115\n",
      "epoch 12, loss 0.2470090538263321\n",
      "epoch 12, loss 0.24775847792625427\n",
      "epoch 12, loss 0.24185311794281006\n",
      "epoch 12, loss 0.2493220567703247\n",
      "epoch 12, loss 0.24529403448104858\n",
      "epoch 12, loss 0.2406948208808899\n",
      "epoch 12, loss 0.24774882197380066\n",
      "epoch 12, loss 0.24562861025333405\n",
      "epoch 12, loss 0.24659720063209534\n",
      "epoch 12, loss 0.24320955574512482\n",
      "epoch 12, loss 0.2485087811946869\n",
      "epoch 13, loss 0.2498512864112854\n",
      "epoch 13, loss 0.24588964879512787\n",
      "epoch 13, loss 0.24218721687793732\n"
     ]
    },
    {
     "name": "stdout",
     "output_type": "stream",
     "text": [
      "epoch 13, loss 0.2475593239068985\n",
      "epoch 13, loss 0.2416159212589264\n",
      "epoch 13, loss 0.2401168793439865\n",
      "epoch 13, loss 0.24570614099502563\n",
      "epoch 13, loss 0.2481706738471985\n",
      "epoch 13, loss 0.24338307976722717\n",
      "epoch 13, loss 0.25034305453300476\n",
      "epoch 13, loss 0.24332553148269653\n",
      "epoch 13, loss 0.24558991193771362\n",
      "epoch 13, loss 0.25186416506767273\n",
      "epoch 13, loss 0.24331337213516235\n",
      "epoch 13, loss 0.24924276769161224\n",
      "epoch 13, loss 0.24410583078861237\n",
      "epoch 13, loss 0.25301894545555115\n",
      "epoch 13, loss 0.2447119653224945\n",
      "epoch 13, loss 0.24748387932777405\n",
      "epoch 13, loss 0.24156393110752106\n",
      "epoch 14, loss 0.2440253347158432\n",
      "epoch 14, loss 0.24778465926647186\n",
      "epoch 14, loss 0.24966447055339813\n",
      "epoch 14, loss 0.23910297453403473\n",
      "epoch 14, loss 0.24347727000713348\n",
      "epoch 14, loss 0.2444058060646057\n",
      "epoch 14, loss 0.24704141914844513\n",
      "epoch 14, loss 0.25101184844970703\n",
      "epoch 14, loss 0.2440553605556488\n",
      "epoch 14, loss 0.24914692342281342\n",
      "epoch 14, loss 0.24414192140102386\n",
      "epoch 14, loss 0.2453322410583496\n",
      "epoch 14, loss 0.2479793280363083\n",
      "epoch 14, loss 0.2486083209514618\n",
      "epoch 14, loss 0.2411256581544876\n",
      "epoch 14, loss 0.2452842742204666\n",
      "epoch 14, loss 0.2462998777627945\n",
      "epoch 14, loss 0.24718523025512695\n",
      "epoch 14, loss 0.24772554636001587\n",
      "epoch 14, loss 0.24650660157203674\n",
      "epoch 15, loss 0.24509842693805695\n",
      "epoch 15, loss 0.24397006630897522\n",
      "epoch 15, loss 0.24597784876823425\n",
      "epoch 15, loss 0.24413900077342987\n",
      "epoch 15, loss 0.2473079115152359\n",
      "epoch 15, loss 0.2450401484966278\n",
      "epoch 15, loss 0.25445863604545593\n",
      "epoch 15, loss 0.2448204755783081\n",
      "epoch 15, loss 0.2497057318687439\n",
      "epoch 15, loss 0.24545864760875702\n",
      "epoch 15, loss 0.24239499866962433\n",
      "epoch 15, loss 0.2422238141298294\n",
      "epoch 15, loss 0.24731500446796417\n",
      "epoch 15, loss 0.24612708389759064\n",
      "epoch 15, loss 0.2466994971036911\n",
      "epoch 15, loss 0.2443428933620453\n",
      "epoch 15, loss 0.24456888437271118\n",
      "epoch 15, loss 0.2476213425397873\n",
      "epoch 15, loss 0.24464786052703857\n",
      "epoch 15, loss 0.24502816796302795\n",
      "epoch 16, loss 0.23916275799274445\n",
      "epoch 16, loss 0.2415751814842224\n",
      "epoch 16, loss 0.24733935296535492\n",
      "epoch 16, loss 0.24815680086612701\n",
      "epoch 16, loss 0.24225804209709167\n",
      "epoch 16, loss 0.24577337503433228\n",
      "epoch 16, loss 0.24111035466194153\n",
      "epoch 16, loss 0.24578158557415009\n",
      "epoch 16, loss 0.2433270364999771\n",
      "epoch 16, loss 0.24016433954238892\n",
      "epoch 16, loss 0.24421702325344086\n",
      "epoch 16, loss 0.2509251832962036\n",
      "epoch 16, loss 0.24663041532039642\n",
      "epoch 16, loss 0.24863867461681366\n",
      "epoch 16, loss 0.2472255527973175\n",
      "epoch 16, loss 0.2495466023683548\n",
      "epoch 16, loss 0.2488316297531128\n",
      "epoch 16, loss 0.24578353762626648\n",
      "epoch 16, loss 0.24466954171657562\n",
      "epoch 16, loss 0.24666143953800201\n",
      "epoch 17, loss 0.24578627943992615\n",
      "epoch 17, loss 0.248699352145195\n",
      "epoch 17, loss 0.24194636940956116\n",
      "epoch 17, loss 0.24391600489616394\n",
      "epoch 17, loss 0.2450178563594818\n",
      "epoch 17, loss 0.251836895942688\n",
      "epoch 17, loss 0.24442709982395172\n",
      "epoch 17, loss 0.24491867423057556\n",
      "epoch 17, loss 0.24342463910579681\n",
      "epoch 17, loss 0.2444372922182083\n",
      "epoch 17, loss 0.24527683854103088\n",
      "epoch 17, loss 0.25185665488243103\n",
      "epoch 17, loss 0.24056465923786163\n",
      "epoch 17, loss 0.24666732549667358\n",
      "epoch 17, loss 0.24902451038360596\n",
      "epoch 17, loss 0.2471507489681244\n",
      "epoch 17, loss 0.24498842656612396\n",
      "epoch 17, loss 0.24895510077476501\n",
      "epoch 17, loss 0.23935577273368835\n",
      "epoch 17, loss 0.2460610419511795\n",
      "epoch 18, loss 0.2484024167060852\n",
      "epoch 18, loss 0.24040937423706055\n",
      "epoch 18, loss 0.25743305683135986\n",
      "epoch 18, loss 0.24436120688915253\n",
      "epoch 18, loss 0.24945297837257385\n",
      "epoch 18, loss 0.24584324657917023\n",
      "epoch 18, loss 0.24157996475696564\n",
      "epoch 18, loss 0.24881158769130707\n",
      "epoch 18, loss 0.2451237142086029\n",
      "epoch 18, loss 0.2455194741487503\n",
      "epoch 18, loss 0.2460365891456604\n",
      "epoch 18, loss 0.24205122888088226\n",
      "epoch 18, loss 0.24349918961524963\n",
      "epoch 18, loss 0.24490733444690704\n",
      "epoch 18, loss 0.2420320361852646\n",
      "epoch 18, loss 0.24841365218162537\n",
      "epoch 18, loss 0.24221265316009521\n",
      "epoch 18, loss 0.24058231711387634\n",
      "epoch 18, loss 0.2415398210287094\n",
      "epoch 18, loss 0.24391807615756989\n",
      "epoch 19, loss 0.23350639641284943\n",
      "epoch 19, loss 0.24177098274230957\n",
      "epoch 19, loss 0.244670569896698\n",
      "epoch 19, loss 0.24686774611473083\n",
      "epoch 19, loss 0.24160335958003998\n",
      "epoch 19, loss 0.2432255893945694\n",
      "epoch 19, loss 0.24871131777763367\n",
      "epoch 19, loss 0.2415025681257248\n",
      "epoch 19, loss 0.2466016262769699\n",
      "epoch 19, loss 0.23732535541057587\n",
      "epoch 19, loss 0.24958033859729767\n",
      "epoch 19, loss 0.24150501191616058\n",
      "epoch 19, loss 0.24367231130599976\n",
      "epoch 19, loss 0.24376511573791504\n",
      "epoch 19, loss 0.24561789631843567\n",
      "epoch 19, loss 0.24373884499073029\n",
      "epoch 19, loss 0.24681493639945984\n",
      "epoch 19, loss 0.24343888461589813\n",
      "epoch 19, loss 0.24490417540073395\n",
      "epoch 19, loss 0.2499280422925949\n",
      "epoch 20, loss 0.2434956282377243\n",
      "epoch 20, loss 0.24169395864009857\n",
      "epoch 20, loss 0.24921773374080658\n",
      "epoch 20, loss 0.25009819865226746\n",
      "epoch 20, loss 0.2438569962978363\n",
      "epoch 20, loss 0.24043944478034973\n",
      "epoch 20, loss 0.24144227802753448\n",
      "epoch 20, loss 0.24410344660282135\n",
      "epoch 20, loss 0.2460804581642151\n",
      "epoch 20, loss 0.24931375682353973\n",
      "epoch 20, loss 0.24181105196475983\n",
      "epoch 20, loss 0.2440183162689209\n",
      "epoch 20, loss 0.24463562667369843\n",
      "epoch 20, loss 0.2419736683368683\n",
      "epoch 20, loss 0.23926600813865662\n",
      "epoch 20, loss 0.2451930046081543\n",
      "epoch 20, loss 0.24006858468055725\n",
      "epoch 20, loss 0.2488279789686203\n",
      "epoch 20, loss 0.2373339980840683\n",
      "epoch 20, loss 0.2437746375799179\n"
     ]
    }
   ],
   "source": [
    "n_components = 40000\n",
    "model = nn.Linear(n_components, 1)\n",
    "criterion = nn.MSELoss()\n",
    "optimizer = optim.SGD(model.parameters(), lr=1e-3, weight_decay = .1)\n",
    "\n",
    "for num_epochs in range(20):\n",
    "    counter = 0\n",
    "    for inp, lbl in data_loader_train:\n",
    "        model.train()\n",
    "        logits = model(inp)\n",
    "        loss = criterion(logits, lbl)\n",
    "        optimizer.zero_grad()\n",
    "        loss.backward()\n",
    "        optimizer.step()\n",
    "        if(counter%10 == 0):\n",
    "            print('epoch {}, loss {}'.format(num_epochs+1, loss.item()))\n",
    "        counter = counter+1"
   ]
  },
  {
   "cell_type": "code",
   "execution_count": 11,
   "metadata": {},
   "outputs": [],
   "source": [
    "model.eval()\n",
    "y_output = model(torch.Tensor(test_random_features))\n",
    "test_output_sgd = np.array(y_output.detach())"
   ]
  },
  {
   "cell_type": "code",
   "execution_count": 12,
   "metadata": {},
   "outputs": [
    {
     "data": {
      "text/plain": [
       "0.5250230912335423"
      ]
     },
     "execution_count": 12,
     "metadata": {},
     "output_type": "execute_result"
    }
   ],
   "source": [
    "fpr_opu, tpr_opu, thresholds = metrics.roc_curve(y_test_bin,test_output_sgd)\n",
    "metrics.auc(fpr_opu, tpr_opu)"
   ]
  },
  {
   "cell_type": "code",
   "execution_count": 13,
   "metadata": {},
   "outputs": [
    {
     "data": {
      "image/png": "[encoded data removed]",
      "text/plain": [
       "<Figure size 432x288 with 1 Axes>"
      ]
     },
     "metadata": {
      "needs_background": "light"
     },
     "output_type": "display_data"
    }
   ],
   "source": [
    "pyplot.plot(fpr_opu, tpr_opu, lw=2,alpha=0.5)\n",
    "pyplot.axis((0,.001,0,1))\n",
    "pyplot.title(\"ROC Curve for 40000 random features\")\n",
    "pyplot.savefig(\"ROC Curve 40000 on OPU (SGD on 200000 images)\")"
   ]
  },
  {
   "cell_type": "markdown",
   "metadata": {},
   "source": [
    "## Interpret Output"
   ]
  },
  {
   "cell_type": "code",
   "execution_count": 14,
   "metadata": {
    "scrolled": true
   },
   "outputs": [],
   "source": [
    "train_scores = []\n",
    "for i in range(train_random_features.shape[0]):\n",
    "    train_scores.append(np.array(model(torch.Tensor(train_random_features[i:i+1])).detach()[0]))"
   ]
  },
  {
   "cell_type": "code",
   "execution_count": 15,
   "metadata": {},
   "outputs": [],
   "source": [
    "minMax = preprocessing.MinMaxScaler()\n",
    "minMax.fit(train_scores)\n",
    "train_scores = minMax.transform(train_scores)\n",
    "test_scores = np.array(y_output.detach())\n",
    "test_scores = minMax.transform(test_scores)"
   ]
  },
  {
   "cell_type": "code",
   "execution_count": 16,
   "metadata": {},
   "outputs": [],
   "source": [
    "def compare_train_test(y_pred_train, y_train, y_pred, y_test, high_low=(0,1), bins=30):\n",
    "    pyplot.hist(y_pred_train[y_train == 1],\n",
    "                 color='r', alpha=0.5, range=high_low, bins=bins,\n",
    "                 histtype='stepfilled', density=True,\n",
    "                 label='S (train)') # alpha is transparancy\n",
    "    pyplot.hist(y_pred_train[y_train == 0],\n",
    "                 color='b', alpha=0.5, range=high_low, bins=bins,\n",
    "                 histtype='stepfilled', density=True,\n",
    "                 label='B (train)')\n",
    "\n",
    "    hist, bins = np.histogram(y_pred[y_test == 1], bins=bins, range=high_low, \n",
    "                                   density=True)\n",
    "    scale = len(y_pred[y_test == 1]) / sum(hist)\n",
    "    err = np.sqrt(hist * scale) / scale\n",
    "\n",
    "    #width = (bins[1] - bins[0])\n",
    "    center = (bins[:-1] + bins[1:]) / 2\n",
    "    pyplot.errorbar(center, hist, yerr=err, fmt='o', c='r', label='S (test)')\n",
    "\n",
    "    hist, bins = np.histogram(y_pred[y_test == 0],\n",
    "                                  bins=bins, range=high_low, density=True)\n",
    "    scale = len(y_pred[y_test == 0]) / sum(hist)\n",
    "    err = np.sqrt(hist * scale) / scale\n",
    "\n",
    "    #width = (bins[1] - bins[0])\n",
    "    center = (bins[:-1] + bins[1:]) / 2\n",
    "    pyplot.errorbar(center, hist, yerr=err, fmt='o', c='b', label='B (test)')\n",
    "    pyplot.xlabel(\"SGD scores for 40000 random featues and 20 epochs\")\n",
    "    pyplot.ylabel(\"Arbitrary units\")\n",
    "    pyplot.legend(loc='best')\n",
    "    \n",
    "    pyplot.savefig(\"SGD 20 epochs-40000 features\")"
   ]
  },
  {
   "cell_type": "code",
   "execution_count": 17,
   "metadata": {},
   "outputs": [
    {
     "data": {
      "image/png": "[encoded data removed]",
      "text/plain": [
       "<Figure size 432x288 with 1 Axes>"
      ]
     },
     "metadata": {
      "needs_background": "light"
     },
     "output_type": "display_data"
    }
   ],
   "source": [
    "compare_train_test(train_scores,y_train_bin,test_scores,y_test_bin)"
   ]
  },
  {
   "cell_type": "code",
   "execution_count": null,
   "metadata": {},
   "outputs": [],
   "source": []
  },
  {
   "cell_type": "code",
   "execution_count": null,
   "metadata": {},
   "outputs": [],
   "source": []
  },
  {
   "cell_type": "code",
   "execution_count": null,
   "metadata": {},
   "outputs": [],
   "source": []
  }
 ],
 "metadata": {
  "kernelspec": {
   "display_name": "Python 3 (LightOn OPU)",
   "language": "python",
   "name": "lighton_python3"
  },
  "language_info": {
   "codemirror_mode": {
    "name": "ipython",
    "version": 3
   },
   "file_extension": ".py",
   "mimetype": "text/x-python",
   "name": "python",
   "nbconvert_exporter": "python",
   "pygments_lexer": "ipython3",
   "version": "3.5.2"
  }
 },
 "nbformat": 4,
 "nbformat_minor": 2
}
