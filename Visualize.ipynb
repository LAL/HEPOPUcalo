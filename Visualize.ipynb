{
 "cells": [
  {
   "cell_type": "code",
   "execution_count": null,
   "metadata": {},
   "outputs": [],
   "source": [
    "import h5py\n",
    "import numpy as np\n",
    "import math\n",
    "from numpy import errstate,isneginf\n",
    "from tqdm import tqdm_notebook as tqdm\n",
    "from matplotlib import pyplot as plt"
   ]
  },
  {
   "cell_type": "code",
   "execution_count": null,
   "metadata": {},
   "outputs": [],
   "source": [
    "filename = 'Data/train.h5'\n",
    "f = h5py.File(filename, 'r')\n"
   ]
  },
  {
   "cell_type": "code",
   "execution_count": null,
   "metadata": {},
   "outputs": [],
   "source": [
    " f['all_events'].keys()"
   ]
  },
  {
   "cell_type": "code",
   "execution_count": null,
   "metadata": {},
   "outputs": [],
   "source": [
    "images = f['all_events']['hist'][:]\n",
    "labels = f['all_events']['y'][:] \n",
    "weights = f['all_events']['weight'][:] "
   ]
  },
  {
   "cell_type": "code",
   "execution_count": null,
   "metadata": {},
   "outputs": [],
   "source": [
    "fshifted = h5py.File('Data/train_shifted.h5', 'r')"
   ]
  },
  {
   "cell_type": "code",
   "execution_count": null,
   "metadata": {},
   "outputs": [],
   "source": [
    "images = fshifted['shiftedImg'][:]"
   ]
  },
  {
   "cell_type": "code",
   "execution_count": null,
   "metadata": {},
   "outputs": [],
   "source": [
    "weights = weights.reshape(-1,1,1)"
   ]
  },
  {
   "cell_type": "code",
   "execution_count": null,
   "metadata": {},
   "outputs": [],
   "source": [
    "weights.shape"
   ]
  },
  {
   "cell_type": "code",
   "execution_count": null,
   "metadata": {},
   "outputs": [],
   "source": [
    "X_signal = np.zeros((64,64))\n",
    "X_background = np.zeros((64,64))"
   ]
  },
  {
   "cell_type": "code",
   "execution_count": null,
   "metadata": {},
   "outputs": [],
   "source": [
    "labels.reshape(-1,1).shape"
   ]
  },
  {
   "cell_type": "code",
   "execution_count": null,
   "metadata": {},
   "outputs": [],
   "source": [
    "for i in tqdm(range(images.shape[0])):\n",
    "    if (labels[i]==1) :\n",
    "        \n",
    "        X_signal = np.add(X_signal,images[i])\n",
    "    if (labels[i]==0) :\n",
    "        X_background = np.add(X_background,images[i])"
   ]
  },
  {
   "cell_type": "code",
   "execution_count": null,
   "metadata": {},
   "outputs": [],
   "source": [
    "for i in tqdm(range(images.shape[0])):\n",
    "    if (labels[i]==1) :\n",
    "        print(np.amax(images[i]))"
   ]
  },
  {
   "cell_type": "code",
   "execution_count": null,
   "metadata": {},
   "outputs": [],
   "source": [
    "for i in tqdm(range(images.shape[0])):\n",
    "    if (labels[i]!=1) :\n",
    "        print(np.amax(images[i]))"
   ]
  },
  {
   "cell_type": "code",
   "execution_count": null,
   "metadata": {},
   "outputs": [],
   "source": [
    "print(np.amax(X_signal))\n",
    "print(np.amax(X_background))\n",
    "print(np.amin(X_signal))\n",
    "print(np.amin(X_background))"
   ]
  },
  {
   "cell_type": "code",
   "execution_count": null,
   "metadata": {},
   "outputs": [],
   "source": [
    "X_signal.shape"
   ]
  },
  {
   "cell_type": "code",
   "execution_count": null,
   "metadata": {},
   "outputs": [],
   "source": [
    "from sklearn.preprocessing import MinMaxScaler"
   ]
  },
  {
   "cell_type": "code",
   "execution_count": null,
   "metadata": {},
   "outputs": [],
   "source": [
    "min_max_signal = MinMaxScaler()"
   ]
  },
  {
   "cell_type": "code",
   "execution_count": null,
   "metadata": {},
   "outputs": [],
   "source": [
    "min_max_signal.fit_transform(X_signal)"
   ]
  },
  {
   "cell_type": "code",
   "execution_count": null,
   "metadata": {},
   "outputs": [],
   "source": [
    "min_max_bg = MinMaxScaler()"
   ]
  },
  {
   "cell_type": "code",
   "execution_count": null,
   "metadata": {},
   "outputs": [],
   "source": [
    "min_max_bg.fit_transform(X_background)"
   ]
  },
  {
   "cell_type": "code",
   "execution_count": null,
   "metadata": {},
   "outputs": [],
   "source": [
    "import matplotlib.pyplot as plt"
   ]
  },
  {
   "cell_type": "code",
   "execution_count": null,
   "metadata": {},
   "outputs": [],
   "source": [
    "plt.imshow(np.log(X_signal+1))\n",
    "plt.savefig(\"Average signal\")"
   ]
  },
  {
   "cell_type": "code",
   "execution_count": null,
   "metadata": {},
   "outputs": [],
   "source": [
    "plt.imshow(np.log(X_background+1))\n",
    "plt.savefig(\"average background\")"
   ]
  },
  {
   "cell_type": "code",
   "execution_count": null,
   "metadata": {},
   "outputs": [],
   "source": []
  },
  {
   "cell_type": "code",
   "execution_count": null,
   "metadata": {},
   "outputs": [],
   "source": [
    "Xbg = images[6]\n",
    "min_max_signal.fit_transform(Xbg)\n",
    "\n",
    "plt.imshow(Xbg)\n",
    "plt.savefig(\"X_single\")"
   ]
  },
  {
   "cell_type": "code",
   "execution_count": null,
   "metadata": {},
   "outputs": [],
   "source": [
    "Xsg = images[1]\n",
    "min_max_signal.fit_transform(Xsg)\n",
    "\n",
    "plt.imshow(Xsg)\n",
    "plt.savefig(\"X signal_single\")"
   ]
  },
  {
   "cell_type": "code",
   "execution_count": null,
   "metadata": {},
   "outputs": [],
   "source": []
  },
  {
   "cell_type": "code",
   "execution_count": null,
   "metadata": {},
   "outputs": [],
   "source": []
  },
  {
   "cell_type": "code",
   "execution_count": null,
   "metadata": {},
   "outputs": [],
   "source": [
    "from matplotlib.colors import LogNorm\n",
    "from matplotlib import pyplot as plt\n",
    "def plot_avg_help(images):\n",
    "    #fig = plt.figure(figsize=(10,10))\n",
    "    plt.ylabel(r'$\\eta$ Cell ID')\n",
    "    plt.xlabel(r'$\\phi$ Cell ID')\n",
    "    im = plt.imshow(images.mean(axis=0),\n",
    "                   norm=LogNorm(None, None)\n",
    "        )\n",
    "    cbar = plt.colorbar(fraction=0.0455)\n",
    "    cbar.set_label(r'Energy (Arbitrary Units)', y=0.53)\n",
    "    cbar.ax.tick_params()   \n",
    "    return im"
   ]
  },
  {
   "cell_type": "code",
   "execution_count": null,
   "metadata": {},
   "outputs": [],
   "source": [
    "def plot_single_help(image):\n",
    "    \n",
    "    #fig = plt.figure(figsize=(,10))\n",
    "    plt.ylabel(r'$\\eta$ Cell ID')\n",
    "    plt.xlabel(r'$\\phi$ Cell ID')\n",
    "    im = plt.imshow(image,\n",
    "                   norm=LogNorm(None, None)\n",
    "        )\n",
    "    cbar = plt.colorbar(fraction=.45)\n",
    "    cbar.set_label(r'Energy (Arbitrary Units)', y=0.53)\n",
    "    cbar.ax.tick_params()  "
   ]
  },
  {
   "cell_type": "code",
   "execution_count": null,
   "metadata": {},
   "outputs": [],
   "source": [
    "im = plot_avg_help(np.multiply(images[labels==0],weights[labels==0].reshape(-1,1,1)))\n",
    "plt.savefig(\"avg_background\")"
   ]
  },
  {
   "cell_type": "code",
   "execution_count": null,
   "metadata": {},
   "outputs": [],
   "source": [
    "im = plot_avg_help(np.multiply(images[labels==1],weights[labels==1].reshape(-1,1,1)))\n",
    "plt.savefig(\"avg_signal\")"
   ]
  },
  {
   "cell_type": "code",
   "execution_count": null,
   "metadata": {},
   "outputs": [],
   "source": [
    "#single image example\n",
    "\n",
    "im= plot_single_help(images[0])\n",
    "plt.savefig(\"singleimg_ex\")"
   ]
  },
  {
   "cell_type": "code",
   "execution_count": null,
   "metadata": {},
   "outputs": [],
   "source": [
    "fig = plt.figure()\n",
    "a = fig.add_subplot(1, 2, 1)\n",
    "imgplot = plot_avg_help(images[labels==0])\n",
    "a.set_title('Before')\n",
    "plt.colorbar(orientation='horizontal')\n",
    "\n",
    "a = fig.add_subplot(1, 2, 2)\n",
    "imgplot = plot_avg_help(images[labels==1])\n",
    "#imgplot.set_clim(0.0, 0.7)\n",
    "a.set_title('After')\n",
    "plt.colorbar(orientation='horizontal')\n",
    "plt.show()"
   ]
  },
  {
   "cell_type": "code",
   "execution_count": null,
   "metadata": {},
   "outputs": [],
   "source": [
    "fig, ax = plt.subplots(2,4)\n",
    "ax[0,0] = plt.imshow(images.mean(axis=0),\n",
    "                   norm=LogNorm(),\n",
    "        )\n",
    "#ax[0,1] = plot_avg_help(images[labels==1])"
   ]
  },
  {
   "cell_type": "code",
   "execution_count": null,
   "metadata": {},
   "outputs": [],
   "source": []
  },
  {
   "cell_type": "code",
   "execution_count": null,
   "metadata": {},
   "outputs": [],
   "source": []
  }
 ],
 "metadata": {
  "kernelspec": {
   "display_name": "Python 3 (LightOn OPU)",
   "language": "python",
   "name": "lighton_python3"
  },
  "language_info": {
   "codemirror_mode": {
    "name": "ipython",
    "version": 3
   },
   "file_extension": ".py",
   "mimetype": "text/x-python",
   "name": "python",
   "nbconvert_exporter": "python",
   "pygments_lexer": "ipython3",
   "version": "3.5.2"
  }
 },
 "nbformat": 4,
 "nbformat_minor": 2
}
