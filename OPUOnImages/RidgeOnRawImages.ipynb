{
 "cells": [
  {
   "cell_type": "code",
   "execution_count": 1,
   "metadata": {},
   "outputs": [],
   "source": [
    "import h5py\n",
    "import numpy as np"
   ]
  },
  {
   "cell_type": "code",
   "execution_count": 2,
   "metadata": {},
   "outputs": [],
   "source": [
    "f_train_raw = h5py.File(\"../Data/train.h5\", 'r')\n",
    "f_test_raw = h5py.File(\"../Data/test.h5\",'r')\n",
    "\n",
    "X_train = f_train_raw['all_events']['hist'][:]\n",
    "X_test = f_test_raw['all_events']['hist'][:]\n",
    "\n",
    "y_train = f_train_raw['all_events']['y'][:]\n",
    "y_test = f_test_raw['all_events']['y'][:]\n",
    "\n",
    "weights_train = f_train_raw['all_events']['weight'][:]\n",
    "weights_test = f_test_raw['all_events']['weight'][:]"
   ]
  },
  {
   "cell_type": "code",
   "execution_count": 12,
   "metadata": {},
   "outputs": [],
   "source": [
    "X_train = X_train.reshape(X_train.shape[0],-1)\n",
    "X_test = X_test.reshape(X_test.shape[0],-1)"
   ]
  },
  {
   "cell_type": "code",
   "execution_count": 5,
   "metadata": {},
   "outputs": [
    {
     "name": "stdout",
     "output_type": "stream",
     "text": [
      "9.771940064202349\n",
      "-4.9167124306727175\n"
     ]
    }
   ],
   "source": [
    "print(np.log10(np.amax(weights_train)))\n",
    "print(np.log10(np.amin(weights_train)))"
   ]
  },
  {
   "cell_type": "code",
   "execution_count": 6,
   "metadata": {},
   "outputs": [
    {
     "name": "stdout",
     "output_type": "stream",
     "text": [
      "5914800000.0\n",
      "1.2114e-05\n"
     ]
    }
   ],
   "source": [
    "print(np.amax(weights_train))\n",
    "print(np.amin(weights_train))"
   ]
  },
  {
   "cell_type": "code",
   "execution_count": 22,
   "metadata": {},
   "outputs": [
    {
     "data": {
      "text/plain": [
       "RidgeClassifier(alpha=10, class_weight=None, copy_X=True, fit_intercept=True,\n",
       "                max_iter=None, normalize=False, random_state=None,\n",
       "                solver='auto', tol=0.001)"
      ]
     },
     "execution_count": 22,
     "metadata": {},
     "output_type": "execute_result"
    }
   ],
   "source": [
    "from sklearn.linear_model import RidgeClassifier\n",
    "\n",
    "ridge_raw = RidgeClassifier(alpha=10)\n",
    "#since = time.time()\n",
    "ridge_raw.fit(X_train.reshape(X_train.shape[0],-1), y_train,sample_weight=np.log(weights_train+1))"
   ]
  },
  {
   "cell_type": "code",
   "execution_count": 23,
   "metadata": {},
   "outputs": [
    {
     "name": "stdout",
     "output_type": "stream",
     "text": [
      "Train accuracy (%): 59.2841\n",
      "Test accuracy (%): 58.9033\n"
     ]
    }
   ],
   "source": [
    "train_accuracy_raw = ridge_raw.score(X_train, y_train)\n",
    "test_accuracy_raw = ridge_raw.score(X_test, y_test)\n",
    "#score_time = time.time() - since\n",
    "#print('Time for score: {:.4f} s'.format(score_time))\n",
    "print('Train accuracy (%): {:.4f}'.format(train_accuracy_raw*100))\n",
    "print('Test accuracy (%): {:.4f}'.format(test_accuracy_raw*100))"
   ]
  },
  {
   "cell_type": "code",
   "execution_count": 27,
   "metadata": {},
   "outputs": [],
   "source": [
    "from sklearn import metrics\n",
    "test_output = ridge_raw.decision_function(X_test)\n",
    "fpr_raw, tpr_raw, thresholds = metrics.roc_curve(y_test,test_output)"
   ]
  },
  {
   "cell_type": "code",
   "execution_count": 28,
   "metadata": {},
   "outputs": [
    {
     "data": {
      "image/png": "[encoded data removed]",
      "text/plain": [
       "<Figure size 432x288 with 1 Axes>"
      ]
     },
     "metadata": {
      "needs_background": "light"
     },
     "output_type": "display_data"
    }
   ],
   "source": [
    "from matplotlib import pyplot\n",
    "pyplot.plot(fpr_raw, tpr_raw, lw=2,alpha=0.5)\n",
    "pyplot.axis((0,1,0,1))\n",
    "pyplot.xlabel(\"fpr\")\n",
    "pyplot.ylabel(\"tpr\")\n",
    "pyplot.show()"
   ]
  },
  {
   "cell_type": "code",
   "execution_count": 26,
   "metadata": {},
   "outputs": [],
   "source": [
    "np.save(\"../Results/FINAL_Thesis_result_linear_classifier_on_raw_data_result\",test_output)"
   ]
  },
  {
   "cell_type": "code",
   "execution_count": null,
   "metadata": {},
   "outputs": [],
   "source": []
  }
 ],
 "metadata": {
  "kernelspec": {
   "display_name": "Python 3 (LightOn OPU)",
   "language": "python",
   "name": "lighton_python3"
  },
  "language_info": {
   "codemirror_mode": {
    "name": "ipython",
    "version": 3
   },
   "file_extension": ".py",
   "mimetype": "text/x-python",
   "name": "python",
   "nbconvert_exporter": "python",
   "pygments_lexer": "ipython3",
   "version": "3.5.2"
  }
 },
 "nbformat": 4,
 "nbformat_minor": 2
}
